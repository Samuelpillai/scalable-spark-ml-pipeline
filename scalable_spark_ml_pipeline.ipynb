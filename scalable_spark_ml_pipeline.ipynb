{
  "cells": [
    {
      "cell_type": "markdown",
      "metadata": {
        "application/vnd.databricks.v1+cell": {
          "inputWidgets": {},
          "nuid": "7601bf0e-75f1-4b25-97f1-54e1d855bd12",
          "showTitle": false,
          "title": ""
        },
        "id": "_My7PTp9ctI6"
      },
      "source": [
        "# [CSC8101] Engineering for AI - 2025 Spark Coursework"
      ]
    },
    {
      "cell_type": "markdown",
      "metadata": {
        "application/vnd.databricks.v1+cell": {
          "inputWidgets": {},
          "nuid": "a451fe1b-c36e-4226-a708-a903f5844f7d",
          "showTitle": false,
          "title": ""
        },
        "id": "E8CE5AD6ctI8"
      },
      "source": [
        "## Coursework overview\n",
        "\n",
        "### Inputs\n",
        "\n",
        "- **NYC Taxi Trips dataset** - list of recorded taxi trips, each with several characteristics, namely: distance, number of passengers, origin zone, destination zone and trip cost (total amount charged to customer).\n",
        "- **NYC Zones dataset** - list of zones wherein trips can originate/terminate.\n",
        "\n",
        "### Tasks\n",
        "\n",
        "1. Data cleaning\n",
        "  1. Remove \"0 distance\" and 'no passengers' records.\n",
        "  2. Remove outlier records.\n",
        "2. Add new columns\n",
        "  1. Join with zones dataset\n",
        "  2. Compute the unit profitability of each trip\n",
        "3. Zone summarisation and ranking\n",
        "  1. Summarise trip data per zone\n",
        "  2. Obtain the top 10 ranks according to:\n",
        "    1. The total trip volume\n",
        "    2. Their average profitabilitiy\n",
        "    3. The total passenger volume\n",
        "4. Record the total and task-specific execution times for each dataset size and format.\n",
        "\n",
        "### How to\n",
        "\n",
        "###### Code structure and implementation\n",
        "\n",
        "- You must implement your solution to each task in the provided function code skeleton.\n",
        "- The task-specific functions are combined together to form the full pipeline code, executed last (do not modify this code).\n",
        "- Before implementing the specified function skeleton, you should develop and test your solution on separate code cells (create and destroy cells as needed).\n",
        "\n",
        "###### Development\n",
        "\n",
        "- Develop an initial working solution for the 'S' dataset and only then optimise it for larger dataset sizes.\n",
        "- To perform vectorised operations on a DataFrame:\n",
        "  - use the API docs to look for existing vectorised functions in: https://spark.apache.org/docs/latest/api/python/reference/pyspark.sql/functions.html\n",
        "  - if a customised function is required (e.g. to add a new column based on a linear combination of other columns), implement your own User Defined Function (UDF). See:  https://spark.apache.org/docs/latest/sql-ref-functions-udf-scalar.html\n",
        "- Use only the `pyspark.sql` API - documentation link below - (note that searching through the docs returns results from the `pyspark.sql` API together with the `pyspark.pandas` API):\n",
        "  - https://spark.apache.org/docs/latest/api/python/reference/pyspark.pandas/frame.html\n",
        "- Periodically download your notebook to your computer as backup and safety measure against accidental file deletion.\n",
        "\n",
        "###### Execution time measurement\n",
        "\n",
        "- Execution time is calculated and returned by the Spark Engine and shown in the output region of the cell.\n",
        "- To measure the execution time of a task you must perform a `collect` or similar operation (e.g. `take`) on the returned DataFrame."
      ]
    },
    {
      "cell_type": "markdown",
      "source": [
        "The following codeblock is used to mount the google colab instance to your google drive, in which we will be accessing the data provided in the course.\n"
      ],
      "metadata": {
        "id": "CDUbnQ32nR8r"
      }
    },
    {
      "cell_type": "code",
      "source": [
        "from google.colab import drive\n",
        "drive.mount('/content/drive')"
      ],
      "metadata": {
        "colab": {
          "base_uri": "https://localhost:8080/"
        },
        "id": "Tm8yjI6Xl1NJ",
        "outputId": "0e8a3302-3ca2-41f7-919c-d0c50a785536"
      },
      "execution_count": 1,
      "outputs": [
        {
          "output_type": "stream",
          "name": "stdout",
          "text": [
            "Mounted at /content/drive\n"
          ]
        }
      ]
    },
    {
      "cell_type": "markdown",
      "metadata": {
        "application/vnd.databricks.v1+cell": {
          "inputWidgets": {},
          "nuid": "d26c1c73-cac4-4937-8201-4c15cc6be296",
          "showTitle": false,
          "title": ""
        },
        "id": "ZjXKIdU-ctI9"
      },
      "source": [
        "## Task 0 - Read data\n",
        "\n",
        "The code below is ready to run. **Do not modify this code**. It does the following:\n",
        "\n",
        "- Reads the 'zones' dataset into variable 'zone_names'\n",
        "- Defines the `init_trips` function that allows you to read the 'trips' dataset (from the DBFS FileStore) given the dataset size ('S' to 'XXL') as function argument\n",
        "- Defines the `pipeline` function, called in Task 4 to measure the execution time of the entire data processing pipeline\n",
        "- Shows you how to call the `init_trips` function and display dataset characteristics (number of rows, schema)"
      ]
    },
    {
      "cell_type": "markdown",
      "metadata": {
        "id": "Aoj5YWL1ctI9"
      },
      "source": []
    },
    {
      "cell_type": "code",
      "source": [
        "!pip install findspark"
      ],
      "metadata": {
        "colab": {
          "base_uri": "https://localhost:8080/"
        },
        "id": "f0ZI33j4u9Sv",
        "outputId": "13c0f355-467a-4752-cf4a-7c75d3dff984"
      },
      "execution_count": 2,
      "outputs": [
        {
          "output_type": "stream",
          "name": "stdout",
          "text": [
            "Collecting findspark\n",
            "  Downloading findspark-2.0.1-py2.py3-none-any.whl.metadata (352 bytes)\n",
            "Downloading findspark-2.0.1-py2.py3-none-any.whl (4.4 kB)\n",
            "Installing collected packages: findspark\n",
            "Successfully installed findspark-2.0.1\n"
          ]
        }
      ]
    },
    {
      "cell_type": "code",
      "source": [
        "## global imports\n",
        "import pyspark.sql as ps\n",
        "import pyspark.sql.functions as pf\n",
        "import pandas as pd\n",
        "import findspark\n",
        "findspark.init()\n",
        "from pyspark.sql import SparkSession\n",
        "spark = SparkSession.builder.master(\"local[*]\").getOrCreate()"
      ],
      "metadata": {
        "id": "hZC-DreftHpQ"
      },
      "execution_count": 3,
      "outputs": []
    },
    {
      "cell_type": "code",
      "execution_count": 4,
      "metadata": {
        "application/vnd.databricks.v1+cell": {
          "inputWidgets": {},
          "nuid": "57aaebcc-fc2a-4d86-a58e-c1489efeadaf",
          "showTitle": false,
          "title": ""
        },
        "id": "suolqqpEctI9"
      },
      "outputs": [],
      "source": [
        "# Load zone names dataset - (much faster to read small file from git than dbfs)\n",
        "zones_file_url = 'https://raw.githubusercontent.com/NewcastleComputingScience/csc8101-coursework/main/02-assignment-spark/taxi_zone_names.csv'\n",
        "zone_names = spark.createDataFrame(pd.read_csv(zones_file_url))\n",
        "\n",
        "# Function to load trips dataset by selected dataset size\n",
        "def init_trips(size = 'S'):\n",
        "\n",
        "    files = {\n",
        "        'S'  : ['2021_07'],\n",
        "        'M'  : ['2021'],\n",
        "        'L'  : ['2020_21'],\n",
        "        'XL' : ['1_6_2019', '7_12_2019'],\n",
        "        'XXL': ['1_6_2019', '7_12_2019', '2020_21']\n",
        "    }\n",
        "\n",
        "    # validate input dataset size\n",
        "    if size not in files.keys():\n",
        "        print(\"Invalid input dataset size. Must be one of {}\".format(list(files.keys())))\n",
        "        return None\n",
        "\n",
        "    filenames = list(map(lambda s: f'/content/drive/MyDrive/CSC8101_Data/tripdata_{s}.parquet', files[size]))\n",
        "    trips_df = spark.read.parquet(filenames[0])\n",
        "\n",
        "    for name in filenames[1:]:\n",
        "        trips_df = trips_df.union(spark.read.parquet(name))\n",
        "\n",
        "\n",
        "    print(\n",
        "    \"\"\"\n",
        "    Trips dataset loaded!\n",
        "    ---\n",
        "      Size: {s}\n",
        "      Tables loaded: {ds}\n",
        "      Number of trips (dataset rows): {tc:,}\n",
        "    \"\"\".format(s = size, ds = filenames, tc = trips_df.count()))\n",
        "\n",
        "    return trips_df\n",
        "\n",
        "# helper function to print dataset row count\n",
        "def print_count(df):\n",
        "    print(\"Row count: {t:,}\".format(t = df.count()))\n",
        "\n",
        "def pipeline(trips_df, with_task_12 = False, zones_df = zone_names):\n",
        "    # Do not edit\n",
        "    #---\n",
        "\n",
        "    ## Task 1.1\n",
        "    _trips_11 = t11_remove_zeros(trips_df)\n",
        "\n",
        "    ## Task 1.2\n",
        "    if with_task_12:\n",
        "        _trips_12 = t12_remove_outliers(_trips_11)\n",
        "    else:\n",
        "        _trips_12 = _trips_11\n",
        "\n",
        "    ## Task 2.1\n",
        "    _trips_21 = t21_join_zones(_trips_12, zones_df = zone_names)\n",
        "\n",
        "    ## Task 2.2\n",
        "    _trips_22 = t22_calc_profit(_trips_21)\n",
        "\n",
        "    ## Task 3.1\n",
        "    _graph = t31_summarise_trips(_trips_22)\n",
        "\n",
        "    ## Task 3.2\n",
        "    _zones = t32_summarise_zones_pairs(_graph)\n",
        "\n",
        "    _top10_trips     = t32_top10_trips(_zones)\n",
        "    _top10_profit    = t32_top10_profit(_zones)\n",
        "    _top10_passenger = t32_top10_passenger(_zones)\n",
        "\n",
        "    return([_top10_trips, _top10_profit, _top10_passenger])"
      ]
    },
    {
      "cell_type": "code",
      "execution_count": 5,
      "metadata": {
        "application/vnd.databricks.v1+cell": {
          "inputWidgets": {},
          "nuid": "490ab841-fd73-4466-a6e7-5121395deca9",
          "showTitle": false,
          "title": ""
        },
        "id": "DXOjNYDrctI-",
        "outputId": "49bb10ab-6eeb-4fd1-ecee-27f2a224a1d0",
        "colab": {
          "base_uri": "https://localhost:8080/"
        }
      },
      "outputs": [
        {
          "output_type": "stream",
          "name": "stdout",
          "text": [
            "\n",
            "    Trips dataset loaded!\n",
            "    ---\n",
            "      Size: M\n",
            "      Tables loaded: ['/content/drive/MyDrive/CSC8101_Data/tripdata_2021.parquet']\n",
            "      Number of trips (dataset rows): 15,571,166\n",
            "    \n"
          ]
        }
      ],
      "source": [
        "# CHANGE the value of argument 'size' to record the pipeline execution times for increasing dataset sizes\n",
        "SIZE = 'M'\n",
        "\n",
        "\n",
        "# Load trips dataset\n",
        "trips = init_trips(SIZE)\n",
        "\n",
        "# uncomment line only for small datasets\n",
        "#trips.take(1)"
      ]
    },
    {
      "cell_type": "code",
      "execution_count": 6,
      "metadata": {
        "application/vnd.databricks.v1+cell": {
          "inputWidgets": {},
          "nuid": "92da0d12-33a0-4df0-b1d2-607ebb65d948",
          "showTitle": false,
          "title": ""
        },
        "id": "aFkfObE0ctI-",
        "outputId": "db96b8b4-4729-4d2e-aa0b-4abe4c00d3ae",
        "colab": {
          "base_uri": "https://localhost:8080/"
        }
      },
      "outputs": [
        {
          "output_type": "stream",
          "name": "stdout",
          "text": [
            "Row count: 15,571,166\n"
          ]
        }
      ],
      "source": [
        "print_count(trips)"
      ]
    },
    {
      "cell_type": "code",
      "execution_count": 7,
      "metadata": {
        "application/vnd.databricks.v1+cell": {
          "inputWidgets": {},
          "nuid": "490e67f7-4457-4bd5-b89a-a6d24c5645d5",
          "showTitle": false,
          "title": ""
        },
        "id": "VlK_jzthctI-",
        "outputId": "1b2ead2d-02f5-4f51-dd4a-661bef6402a4",
        "colab": {
          "base_uri": "https://localhost:8080/"
        }
      },
      "outputs": [
        {
          "output_type": "stream",
          "name": "stdout",
          "text": [
            "root\n",
            " |-- index: long (nullable = true)\n",
            " |-- VendorID: double (nullable = true)\n",
            " |-- tpep_pickup_datetime: string (nullable = true)\n",
            " |-- tpep_dropoff_datetime: string (nullable = true)\n",
            " |-- passenger_count: double (nullable = true)\n",
            " |-- trip_distance: double (nullable = true)\n",
            " |-- RatecodeID: double (nullable = true)\n",
            " |-- store_and_fwd_flag: string (nullable = true)\n",
            " |-- PULocationID: long (nullable = true)\n",
            " |-- DOLocationID: long (nullable = true)\n",
            " |-- payment_type: double (nullable = true)\n",
            " |-- fare_amount: double (nullable = true)\n",
            " |-- extra: double (nullable = true)\n",
            " |-- mta_tax: double (nullable = true)\n",
            " |-- tip_amount: double (nullable = true)\n",
            " |-- tolls_amount: double (nullable = true)\n",
            " |-- improvement_surcharge: double (nullable = true)\n",
            " |-- total_amount: double (nullable = true)\n",
            " |-- congestion_surcharge: double (nullable = true)\n",
            " |-- cab_type: string (nullable = true)\n",
            " |-- lpep_pickup_datetime: string (nullable = true)\n",
            " |-- lpep_dropoff_datetime: string (nullable = true)\n",
            " |-- ehail_fee: double (nullable = true)\n",
            " |-- trip_type: double (nullable = true)\n",
            "\n"
          ]
        }
      ],
      "source": [
        "# dataset schemas\n",
        "trips.printSchema()"
      ]
    },
    {
      "cell_type": "code",
      "execution_count": 8,
      "metadata": {
        "application/vnd.databricks.v1+cell": {
          "inputWidgets": {},
          "nuid": "5e2ab160-b9b8-4c4a-bb70-fc3197bae230",
          "showTitle": false,
          "title": ""
        },
        "id": "H-wg8TN7ctI_",
        "outputId": "5dd6cb0f-45f1-4d55-9686-d30f958c1947",
        "colab": {
          "base_uri": "https://localhost:8080/",
          "height": 106
        }
      },
      "outputs": [
        {
          "output_type": "display_data",
          "data": {
            "text/plain": [
              "[Row(PULocationID=142, DOLocationID=43, trip_distance=2.1, passenger_count=1.0, total_amount=11.8),\n",
              " Row(PULocationID=238, DOLocationID=151, trip_distance=0.2, passenger_count=1.0, total_amount=4.3),\n",
              " Row(PULocationID=132, DOLocationID=165, trip_distance=14.7, passenger_count=1.0, total_amount=51.95),\n",
              " Row(PULocationID=138, DOLocationID=132, trip_distance=10.6, passenger_count=0.0, total_amount=36.35),\n",
              " Row(PULocationID=68, DOLocationID=33, trip_distance=4.94, passenger_count=1.0, total_amount=24.36)]"
            ]
          },
          "metadata": {}
        }
      ],
      "source": [
        "display(trips[['PULocationID', 'DOLocationID', 'trip_distance', 'passenger_count', 'total_amount']].take(5))"
      ]
    },
    {
      "cell_type": "code",
      "execution_count": 9,
      "metadata": {
        "application/vnd.databricks.v1+cell": {
          "inputWidgets": {},
          "nuid": "eee4451c-b49a-42a6-b87e-81aad4144cf1",
          "showTitle": false,
          "title": ""
        },
        "id": "5M0rcWtDctI_",
        "outputId": "27cbf77d-7743-4d69-d3a9-80fbd68ab62d",
        "colab": {
          "base_uri": "https://localhost:8080/"
        }
      },
      "outputs": [
        {
          "output_type": "stream",
          "name": "stdout",
          "text": [
            "root\n",
            " |-- LocationID: long (nullable = true)\n",
            " |-- Borough: string (nullable = true)\n",
            " |-- Zone: string (nullable = true)\n",
            " |-- service_zone: string (nullable = true)\n",
            "\n"
          ]
        }
      ],
      "source": [
        "zone_names.printSchema()"
      ]
    },
    {
      "cell_type": "code",
      "execution_count": 10,
      "metadata": {
        "application/vnd.databricks.v1+cell": {
          "inputWidgets": {},
          "nuid": "8a1ed0a0-0621-471d-8332-d47b52f71817",
          "showTitle": false,
          "title": ""
        },
        "id": "MnBRw7MZctI_",
        "outputId": "320422de-ed9f-4b05-d9b8-28b8f4d5cffd",
        "colab": {
          "base_uri": "https://localhost:8080/",
          "height": 106
        }
      },
      "outputs": [
        {
          "output_type": "display_data",
          "data": {
            "text/plain": [
              "[Row(LocationID=1, Borough='EWR', Zone='Newark Airport', service_zone='EWR'),\n",
              " Row(LocationID=2, Borough='Queens', Zone='Jamaica Bay', service_zone='Boro Zone'),\n",
              " Row(LocationID=3, Borough='Bronx', Zone='Allerton/Pelham Gardens', service_zone='Boro Zone'),\n",
              " Row(LocationID=4, Borough='Manhattan', Zone='Alphabet City', service_zone='Yellow Zone'),\n",
              " Row(LocationID=5, Borough='Staten Island', Zone='Arden Heights', service_zone='Boro Zone')]"
            ]
          },
          "metadata": {}
        }
      ],
      "source": [
        "display(zone_names.take(5))"
      ]
    },
    {
      "cell_type": "markdown",
      "metadata": {
        "application/vnd.databricks.v1+cell": {
          "inputWidgets": {},
          "nuid": "99294dd5-92b7-4e50-9623-d00d82da993b",
          "showTitle": false,
          "title": ""
        },
        "id": "pAiqa60IctI_"
      },
      "source": [
        "## Task 1 - Filter rows\n",
        "\n",
        "**Input:** trips dataset\n",
        "\n",
        "### Task 1.1 - Remove \"0 distance\" and 'no passengers' records\n",
        "\n",
        "Remove dataset rows that represent invalid trips:\n",
        "\n",
        "- Trips where `trip_distance == 0` (no distance travelled)\n",
        "- Trips where `passenger_count == 0` and `total_amount == 0` (we want to retain records where `total_amount` > 0 - these may be significant as the taxi may have carried some parcel, for example)\n",
        "\n",
        "Altogether, a record is removed if it satisfies the following conditions:\n",
        "\n",
        "`trip_distance == 0` or `(passenger_count == 0` and `total_amount == 0)`.\n",
        "\n",
        "**Recommended:** Select only the relevant dataset columns for this and subsequent tasks: `['PULocationID', 'DOLocationID', 'trip_distance', 'passenger_count', 'total_amount')]`\n",
        "\n",
        "### Task 1.2 - Remove outliers using the modified z-score\n",
        "\n",
        "Despite having removed spurious \"zero passengers\" trips in task 1.1, columns `total_amount` and `trip_distance` contain additional outlier values that must be identified and removed.\n",
        "\n",
        "To identify and remove outliers, you will use the modified [z-score](https://en.wikipedia.org/wiki/Standard_score) method.\n",
        "The modified z-score uses the median and [Median Absolute Deviation](https://en.wikipedia.org/wiki/Median_absolute_deviation) (MAD), instead of the mean and standard deviation, to determine how far an observation (indexed by i) is from the mean:\n",
        "\n",
        "$$z_i = \\frac{x_i - \\mathit{median}(\\mathbf{x})}{\\mathbf{MAD}},$$\n",
        "\n",
        "where x represents the input vector, xi is an element of x and zi is its corresponding z-score. In turn, the MAD formula is:\n",
        "\n",
        "$$\\mathbf{MAD} = 1.483 * \\mathit{median}(\\big\\lvert x_i - \\mathit{median}(\\mathbf{x})\\big\\rvert).$$\n",
        "\n",
        "Observations with **high** (absolute) z-score are considered outlier observations. A score is considered **high** if its __absolute z-score__ is larger than a threshold T = 3.5:\n",
        "\n",
        "$$\\big\\lvert z_i \\big\\rvert > 3.5.$$\n",
        "\n",
        "where T represents the number of unit standard deviations beyond which a score is considered an outlier ([wiki](https://en.wikipedia.org/wiki/68%E2%80%9395%E2%80%9399.7_rule)).\n",
        "\n",
        "This process is repeated twice, once for each of the columns `total_amount` and `trip_distance` (in any order).\n",
        "\n",
        "**Important:** Use the surrogate function [`percentile_approx`](https://spark.apache.org/docs/3.2.0/api/python/reference/api/pyspark.sql.functions.percentile_approx.html?highlight=percentile#pyspark.sql.functions.percentile_approx) to estimate the median (calculating the median values for a column is expensive as it cannot be parallelised efficiently)."
      ]
    },
    {
      "cell_type": "code",
      "execution_count": 11,
      "metadata": {
        "application/vnd.databricks.v1+cell": {
          "inputWidgets": {},
          "nuid": "b53021ef-a0ab-43be-8885-142617707a5c",
          "showTitle": false,
          "title": ""
        },
        "id": "2zZdRxCzctI_"
      },
      "outputs": [],
      "source": [
        "# develop your solution here (create/destroy cells as needed) and then implement it in the functions below"
      ]
    },
    {
      "cell_type": "code",
      "execution_count": 12,
      "metadata": {
        "application/vnd.databricks.v1+cell": {
          "inputWidgets": {},
          "nuid": "4ac2d5d7-21d4-4bbb-b2ea-0e6e4df89a58",
          "showTitle": false,
          "title": ""
        },
        "id": "zRsDFQEpctI_"
      },
      "outputs": [],
      "source": [
        "# Your solution implementation to task 1.1 goes HERE\n",
        "from pyspark.sql import functions as F\n",
        "\n",
        "def t11_remove_zeros(df):\n",
        "    #input: trips dataset\n",
        "    return df.filter((F.col(\"trip_distance\") > 0) & ~((F.col(\"passenger_count\") == 0) & (F.col(\"total_amount\") == 0)))"
      ]
    },
    {
      "cell_type": "code",
      "execution_count": 13,
      "metadata": {
        "application/vnd.databricks.v1+cell": {
          "inputWidgets": {},
          "nuid": "3c6c287d-8707-4989-8ee9-2967a486c925",
          "showTitle": false,
          "title": ""
        },
        "id": "_NE09_DTctJA",
        "outputId": "b1781924-7565-4e5a-b673-e1ed73f367f1",
        "colab": {
          "base_uri": "https://localhost:8080/"
        }
      },
      "outputs": [
        {
          "output_type": "stream",
          "name": "stdout",
          "text": [
            "Row count: 15,350,075\n"
          ]
        }
      ],
      "source": [
        "# execute task 1.1\n",
        "trips_11 = t11_remove_zeros(trips)\n",
        "\n",
        "print_count(trips_11)\n",
        "\n",
        "## uncomment only for smaller datasets\n",
        "# display(trips_11.take(10))"
      ]
    },
    {
      "cell_type": "code",
      "execution_count": 14,
      "metadata": {
        "application/vnd.databricks.v1+cell": {
          "inputWidgets": {},
          "nuid": "c0162cd3-d060-495d-9a86-ebf4a6f507ac",
          "showTitle": false,
          "title": ""
        },
        "id": "ZhejsBYActJA"
      },
      "outputs": [],
      "source": [
        "# Your solution implementation to task 1.2 goes HERE\n",
        "def t12_remove_outliers(df):\n",
        "    for col in [\"total_amount\", \"trip_distance\"]:\n",
        "        median_val = df.approxQuantile(col, [0.5], 0.01)[0]\n",
        "        mad_val = df.select(F.expr(f'percentile_approx(abs({col} - {median_val}), 0.5)')).collect()[0][0]\n",
        "        threshold = 1.483 * mad_val\n",
        "        df = df.withColumn(\"z_score\", (F.col(col) - median_val) / threshold)\n",
        "        df = df.filter(F.abs(F.col(\"z_score\")) <= 3.5).drop(\"z_score\")\n",
        "    return df"
      ]
    },
    {
      "cell_type": "code",
      "execution_count": 15,
      "metadata": {
        "application/vnd.databricks.v1+cell": {
          "inputWidgets": {},
          "nuid": "96533a0e-242b-42d6-bc10-3b1ea3a13681",
          "showTitle": false,
          "title": ""
        },
        "id": "yPLMX61mctJA",
        "outputId": "c7662213-3065-416d-eb2b-dad3403cd75d",
        "colab": {
          "base_uri": "https://localhost:8080/"
        }
      },
      "outputs": [
        {
          "output_type": "stream",
          "name": "stdout",
          "text": [
            "Row count: 13,280,038\n"
          ]
        }
      ],
      "source": [
        "# execute task 1.2\n",
        "trips_12 = t12_remove_outliers(trips_11)\n",
        "\n",
        "print_count(trips_12)\n",
        "# display(trips_12.take(10))"
      ]
    },
    {
      "cell_type": "markdown",
      "metadata": {
        "application/vnd.databricks.v1+cell": {
          "inputWidgets": {},
          "nuid": "77f3f561-5d39-46bf-84fa-0b0c3aafa0cc",
          "showTitle": false,
          "title": ""
        },
        "id": "mrw3DzARctJA"
      },
      "source": [
        "## Task 2 - Compute new columns\n",
        "\n",
        "### Task 2.1 - Zone names\n",
        "\n",
        "Obtain the **start** and **end** zone names of each trip by joining the `trips` and `zone_names` datasets (i.e. by using the `zone_names` dataset as lookup table).\n",
        "\n",
        "**Note:** The columns containing the start and end zone ids of each trip are named `PULocationID` and `DOLocationID`, respectively.\n",
        "\n",
        "### Task 2.2 - Unit profitability\n",
        "\n",
        "Compute the column `unit_profitabilty = total_amount / trip_distance`."
      ]
    },
    {
      "cell_type": "code",
      "execution_count": 16,
      "metadata": {
        "application/vnd.databricks.v1+cell": {
          "inputWidgets": {},
          "nuid": "a61d8288-1539-4f34-856f-98aa7fd0f7f4",
          "showTitle": false,
          "title": ""
        },
        "id": "Oe39PKQVctJA"
      },
      "outputs": [],
      "source": [
        "# develop your solution here (create/destroy cells as needed) and then implement it in the functions below"
      ]
    },
    {
      "cell_type": "code",
      "execution_count": 17,
      "metadata": {
        "application/vnd.databricks.v1+cell": {
          "inputWidgets": {},
          "nuid": "bf0cd0ff-8d0a-4b46-82de-e2edd56e2f10",
          "showTitle": false,
          "title": ""
        },
        "id": "75nNlOd8ctJA"
      },
      "outputs": [],
      "source": [
        "# Your solution implementation to task 2.1 goes HERE\n",
        "def t21_join_zones(df, zones_df = zone_names):\n",
        "    # input: output of task 1.2 and zone_names dataset\n",
        "    df = df.join(zones_df.withColumnRenamed(\"Zone\", \"Pickup_Zone\"), df.PULocationID == zones_df.LocationID, \"left\")\\\n",
        "           .drop(\"LocationID\")\n",
        "    df = df.join(zones_df.withColumnRenamed(\"Zone\", \"Dropoff_Zone\"), df.DOLocationID == zones_df.LocationID, \"left\")\\\n",
        "           .drop(\"LocationID\")\n",
        "    return df"
      ]
    },
    {
      "cell_type": "code",
      "execution_count": 18,
      "metadata": {
        "application/vnd.databricks.v1+cell": {
          "inputWidgets": {},
          "nuid": "6a3abc15-94bb-4352-964f-e3919956b363",
          "showTitle": false,
          "title": ""
        },
        "id": "rph4vUGuctJA",
        "outputId": "45282a66-21d7-42df-9d7a-b94d9612e65f",
        "colab": {
          "base_uri": "https://localhost:8080/"
        }
      },
      "outputs": [
        {
          "output_type": "stream",
          "name": "stdout",
          "text": [
            "Row count: 13,280,038\n"
          ]
        }
      ],
      "source": [
        "# execute task 2.1\n",
        "trips_21 = t21_join_zones(trips_12, zones_df = zone_names)\n",
        "\n",
        "print_count(trips_21)\n",
        "# display(trips_21.take(10))"
      ]
    },
    {
      "cell_type": "code",
      "execution_count": 19,
      "metadata": {
        "application/vnd.databricks.v1+cell": {
          "inputWidgets": {},
          "nuid": "244ecaed-2632-4ed1-ab91-e41d8a91b7c2",
          "showTitle": false,
          "title": ""
        },
        "id": "3lfhUQ9NctJA"
      },
      "outputs": [],
      "source": [
        "# Your solution implementation to task 2.2 goes HERE\n",
        "def t22_calc_profit(df):\n",
        "    # input: output of task 2.1\n",
        "    return df.withColumn(\"unit_profitability\", F.col(\"total_amount\") / F.col(\"trip_distance\"))"
      ]
    },
    {
      "cell_type": "code",
      "execution_count": 20,
      "metadata": {
        "application/vnd.databricks.v1+cell": {
          "inputWidgets": {},
          "nuid": "a3528be7-4fe2-4e68-a94b-a3b33ada952c",
          "showTitle": false,
          "title": ""
        },
        "id": "-x4eqJjxctJA",
        "outputId": "f00c8b54-8da4-4295-b290-61a4aac2f6f3",
        "colab": {
          "base_uri": "https://localhost:8080/"
        }
      },
      "outputs": [
        {
          "output_type": "stream",
          "name": "stdout",
          "text": [
            "Row count: 13,280,038\n"
          ]
        }
      ],
      "source": [
        "# execute task 2.2\n",
        "trips_22 = t22_calc_profit(trips_21)\n",
        "\n",
        "print_count(trips_22)\n",
        "# display(trips_22.take(10))"
      ]
    },
    {
      "cell_type": "markdown",
      "metadata": {
        "application/vnd.databricks.v1+cell": {
          "inputWidgets": {},
          "nuid": "93c4a6e7-512f-40a8-ad2c-41a84ade373f",
          "showTitle": false,
          "title": ""
        },
        "id": "uLWV8gsVctJA"
      },
      "source": [
        "## Task 3: Rank zones by traffic, passenger volume and profitability\n",
        "\n",
        "### 3.1 - Summarise interzonal travel\n",
        "\n",
        "Build a graph data structure of zone-to-zone traffic, representing aggregated data about trips between any two zones. The graph will have one node for each zone and one edge connecting each pair of zones. In addition, edges contain aggregate information about all trips between those zones.\n",
        "\n",
        "For example, zones Z1 and Z2 are connected by *two* edges: edge Z1 --> Z2 carries aggregate data about all trips that originated in Z1 and ended in Z2, and edge Z2 --> Z2 carries aggregate data about all trips that originated in Z2 and ended in Z1.\n",
        "\n",
        "The aggregate information of interzonal travel must include the following data:\n",
        "\n",
        "- `average_unit_profit` - the average unit profitability (calculated as `mean(unit_profitabilty)`).\n",
        "- `trips_count` -- the total number of recorded trips.\n",
        "- `total_passengers` -- the total number of passenger across all trips (sum of `passenger_count`).\n",
        "\n",
        "This graph can be represented as a new dataframe, with schema:\n",
        "\n",
        "\\[`PULocationID`, `DOLocationID`, `average_unit_profit`, `trips_count`, `total_passengers` \\]\n",
        "\n",
        "__hint__: the `groupby()` operator produces a `pyspark.sql.GroupedData` structure. You can then calculate multiple aggregations from this using `pyspark.sql.GroupedData.agg()`:\n",
        "- https://spark.apache.org/docs/3.2.0/api/python/reference/pyspark.pandas/api/pyspark.pandas.DataFrame.groupby.html\n",
        "- https://spark.apache.org/docs/3.2.0/api/python/reference/api/pyspark.sql.GroupedData.agg.html\n",
        "\n",
        "### Task 3.2 - Obtain top-10 zones\n",
        "\n",
        "For each of the following measures, report the top-10 zones _using their plain names you dereferenced in the previous step, not the codes_. Note that this requires ranking the nodes in different orders. Specifically, you need to calculate the following further aggregations:\n",
        "\n",
        "- the **total** number of trips originating from Z. This is simply the sum of `trips_count` over all outgoing edges for Z, i.e., edges of the form Z -> \\*\n",
        "- the **average** profitability of a zone. This is the average of all `average_unit_profit` over all *outgoing* edges from Z.\n",
        "- The **total** passenger volume measured as the **sum** of `total_passengers` carried in trips that originate from Z"
      ]
    },
    {
      "cell_type": "code",
      "execution_count": 21,
      "metadata": {
        "application/vnd.databricks.v1+cell": {
          "inputWidgets": {},
          "nuid": "069fc68b-acdd-47c2-be12-27d32b7916c8",
          "showTitle": false,
          "title": ""
        },
        "id": "bcS_VhPActJA"
      },
      "outputs": [],
      "source": [
        "# develop your solution here (create/destroy cells as needed) and then implement it in the functions below"
      ]
    },
    {
      "cell_type": "code",
      "execution_count": 22,
      "metadata": {
        "application/vnd.databricks.v1+cell": {
          "inputWidgets": {},
          "nuid": "38084194-2635-46aa-ac74-93509c03a86e",
          "showTitle": false,
          "title": ""
        },
        "id": "KctKEwu5ctJA"
      },
      "outputs": [],
      "source": [
        "## Your solution to task 3.1 goes HERE\n",
        "def t31_summarise_trips(df, zones_df = zone_names):\n",
        "    # input: output of task 2.2\n",
        "    required_columns = {\"Pickup_Zone\", \"Dropoff_Zone\", \"unit_profitability\", \"trip_distance\", \"passenger_count\"}\n",
        "    missing_columns = required_columns - set(df.columns)\n",
        "\n",
        "    if missing_columns:\n",
        "        raise ValueError(f\"The input DataFrame is missing required columns: {missing_columns}\")\n",
        "\n",
        "    # Group by Pickup_Zone and Dropoff_Zone to calculate the aggregated metrics\n",
        "    return df.groupBy(\"Pickup_Zone\", \"Dropoff_Zone\").agg(F.avg(\"unit_profitability\").alias(\"average_unit_profit\"), F.count(\"trip_distance\").alias(\"trips_count\"), F.sum(\"passenger_count\").alias(\"total_passengers\")\n",
        "    )"
      ]
    },
    {
      "cell_type": "code",
      "execution_count": 23,
      "metadata": {
        "application/vnd.databricks.v1+cell": {
          "inputWidgets": {},
          "nuid": "b81c74ad-e5f1-4b69-a320-bdf375b94e8d",
          "showTitle": false,
          "title": ""
        },
        "id": "tAsNBMRActJA",
        "outputId": "e26a3e63-b41c-4981-d50f-b66f5ae155c6",
        "colab": {
          "base_uri": "https://localhost:8080/"
        }
      },
      "outputs": [
        {
          "output_type": "stream",
          "name": "stdout",
          "text": [
            "Row count: 15,218\n"
          ]
        }
      ],
      "source": [
        "# execute task 3.1\n",
        "graph = t31_summarise_trips(trips_22)\n",
        "\n",
        "print_count(graph)\n",
        "# display(graph.take(10))"
      ]
    },
    {
      "cell_type": "code",
      "execution_count": 24,
      "metadata": {
        "application/vnd.databricks.v1+cell": {
          "inputWidgets": {},
          "nuid": "c285cd2d-861b-4790-8fe8-4b4b6cdbc8f4",
          "showTitle": false,
          "title": ""
        },
        "id": "9ezqisgfctJA"
      },
      "outputs": [],
      "source": [
        "# Your solution to task 3.2 goes HERE (implement each of the functions below)\n",
        "def t32_summarise_zones_pairs(df, zones_df = zone_names):\n",
        "    return df.groupBy(\"Pickup_Zone\").agg(F.sum(\"trips_count\").alias(\"sum_trips\"),F.sum(\"total_passengers\").alias(\"total_passengers\"),F.avg(\"average_unit_profit\").alias(\"avg_profitability\"))\n",
        "\n",
        "# Top 10 ranked zones by traffic (trip volume)\n",
        "def t32_top10_trips(df_zones):\n",
        "    # input: output of task 3.2\n",
        "    return df_zones.orderBy(F.desc(\"sum_trips\")).limit(10)\n",
        "\n",
        "# Top 10 ranked zones by profit\n",
        "def t32_top10_profit(df_zones):\n",
        "    # input: output of task 3.2\n",
        "    return df_zones.orderBy(F.desc(\"avg_profitability\")).limit(10)\n",
        "\n",
        "# Top 10 ranked zones by passenger volume\n",
        "def t32_top10_passenger(df_zones):\n",
        "    # input: output of task 3.2\n",
        "    return df_zones.orderBy(F.desc(\"total_passengers\")).limit(10)"
      ]
    },
    {
      "cell_type": "code",
      "execution_count": 25,
      "metadata": {
        "application/vnd.databricks.v1+cell": {
          "inputWidgets": {},
          "nuid": "0bb32624-cca2-461e-816d-c49ecc98374e",
          "showTitle": false,
          "title": ""
        },
        "id": "yvHt4_lTctJB"
      },
      "outputs": [],
      "source": [
        "# execute task 3.2\n",
        "zones = t32_summarise_zones_pairs(graph)\n",
        "\n",
        "top10_trips     = t32_top10_trips(zones)\n",
        "top10_profit    = t32_top10_profit(zones)\n",
        "top10_passenger = t32_top10_passenger(zones)"
      ]
    },
    {
      "cell_type": "code",
      "execution_count": 26,
      "metadata": {
        "application/vnd.databricks.v1+cell": {
          "inputWidgets": {},
          "nuid": "382adcca-e15c-45d2-88bf-6ae97b8c6e30",
          "showTitle": false,
          "title": ""
        },
        "id": "dvhzlqPkctJB",
        "outputId": "8834ec48-54b2-41b2-985e-f810f38c2bb6",
        "colab": {
          "base_uri": "https://localhost:8080/"
        }
      },
      "outputs": [
        {
          "output_type": "stream",
          "name": "stdout",
          "text": [
            "+--------------------+---------+----------------+------------------+\n",
            "|         Pickup_Zone|sum_trips|total_passengers| avg_profitability|\n",
            "+--------------------+---------+----------------+------------------+\n",
            "|Upper East Side S...|   744858|       1031398.0| 8.235635943338206|\n",
            "|Upper East Side N...|   698475|        967566.0| 9.613680101791385|\n",
            "|      Midtown Center|   469394|        650206.0|  7.99181000656955|\n",
            "|Penn Station/Madi...|   459923|        635652.0| 8.592151576789965|\n",
            "| Lincoln Square East|   448525|        629244.0| 43.25751520130023|\n",
            "|Upper West Side S...|   444714|        627749.0| 16.58829724243023|\n",
            "|         Murray Hill|   441111|        605274.0| 8.290179197371595|\n",
            "|     Lenox Hill West|   440154|        608458.0| 7.415376933915292|\n",
            "|        Midtown East|   419635|        575658.0|  9.71912295934266|\n",
            "|            Union Sq|   377881|        527716.0|13.804525016212041|\n",
            "+--------------------+---------+----------------+------------------+\n",
            "\n"
          ]
        }
      ],
      "source": [
        "# use 'display()' or return a pandas DataFrame for 'pretty' output\n",
        "top10_trips.show()"
      ]
    },
    {
      "cell_type": "code",
      "execution_count": 27,
      "metadata": {
        "application/vnd.databricks.v1+cell": {
          "inputWidgets": {},
          "nuid": "847abfd1-7424-43c0-976e-5c615736a56b",
          "showTitle": false,
          "title": ""
        },
        "id": "WCNyq9kactJB",
        "outputId": "69870ea3-dc94-4b74-a12f-e6f98b178673",
        "colab": {
          "base_uri": "https://localhost:8080/"
        }
      },
      "outputs": [
        {
          "output_type": "stream",
          "name": "stdout",
          "text": [
            "+--------------------+---------+----------------+------------------+\n",
            "|         Pickup_Zone|sum_trips|total_passengers| avg_profitability|\n",
            "+--------------------+---------+----------------+------------------+\n",
            "|     Mariners Harbor|       10|             2.0|197.76580488628338|\n",
            "|Bay Terrace/Fort ...|      263|            31.0|192.13051290648426|\n",
            "|       East Flushing|      175|            19.0|119.51693123064464|\n",
            "|   Rossville/Woodrow|        3|             1.0|          111.5625|\n",
            "|      Newark Airport|       29|            43.0| 94.13326589536474|\n",
            "|       West Brighton|        4|             6.0|  87.3712034054303|\n",
            "|            Rosedale|      218|            51.0| 87.16633629209177|\n",
            "|     Jamaica Estates|     1395|           176.0| 85.96462996286729|\n",
            "|           Bay Ridge|     1922|           267.0| 84.67471770234401|\n",
            "|Springfield Garde...|     1439|           114.0| 84.00762913235866|\n",
            "+--------------------+---------+----------------+------------------+\n",
            "\n"
          ]
        }
      ],
      "source": [
        "# use 'display()' return a pandas DataFrame for 'pretty' output\n",
        "top10_profit.show()"
      ]
    },
    {
      "cell_type": "code",
      "execution_count": 28,
      "metadata": {
        "application/vnd.databricks.v1+cell": {
          "inputWidgets": {},
          "nuid": "90eb7561-5775-4e6a-8317-473f311e4cfe",
          "showTitle": false,
          "title": ""
        },
        "id": "0WME4wKBctJB",
        "outputId": "c8bdbf96-5b97-43cf-ce9f-dc2d7ab3fdf5",
        "colab": {
          "base_uri": "https://localhost:8080/"
        }
      },
      "outputs": [
        {
          "output_type": "stream",
          "name": "stdout",
          "text": [
            "+--------------------+---------+----------------+------------------+\n",
            "|         Pickup_Zone|sum_trips|total_passengers| avg_profitability|\n",
            "+--------------------+---------+----------------+------------------+\n",
            "|Upper East Side S...|   744858|       1031398.0| 8.235635943338206|\n",
            "|Upper East Side N...|   698475|        967566.0| 9.613680101791385|\n",
            "|      Midtown Center|   469394|        650206.0|  7.99181000656955|\n",
            "|Penn Station/Madi...|   459923|        635652.0| 8.592151576789965|\n",
            "| Lincoln Square East|   448525|        629244.0| 43.25751520130023|\n",
            "|Upper West Side S...|   444714|        627749.0| 16.58829724243023|\n",
            "|     Lenox Hill West|   440154|        608458.0| 7.415376933915292|\n",
            "|         Murray Hill|   441111|        605274.0| 8.290179197371595|\n",
            "|        Midtown East|   419635|        575658.0|  9.71912295934266|\n",
            "|            Union Sq|   377881|        527716.0|13.804525016212041|\n",
            "+--------------------+---------+----------------+------------------+\n",
            "\n"
          ]
        }
      ],
      "source": [
        "# use 'display()' or return a pandas DataFrame for 'pretty' output\n",
        "top10_passenger.show()"
      ]
    },
    {
      "cell_type": "markdown",
      "metadata": {
        "application/vnd.databricks.v1+cell": {
          "inputWidgets": {},
          "nuid": "7b950c5e-b7fd-405e-a0ba-0fe9c2752678",
          "showTitle": false,
          "title": ""
        },
        "id": "Fwol2bRactJB"
      },
      "source": [
        "## Task 4 - Record the pipeline's execution time\n",
        "\n",
        "Record the execution time of:\n",
        "\n",
        "1. the whole pipeline\n",
        "2. the whole pipeline except task 1.2\n",
        "\n",
        "on the two tables below, for all dataset sizes: `'S'`, `'M'`, `'L'`, `'XL'`, `'XXL'`.\n",
        "\n",
        "Analyse the resulting execution times and comment on the effect of dataset size, dataset format and task complexity (with and without task 1.2) on pipeline performance."
      ]
    },
    {
      "cell_type": "code",
      "execution_count": 112,
      "metadata": {
        "application/vnd.databricks.v1+cell": {
          "inputWidgets": {},
          "nuid": "a0e68e8c-4de9-4e04-9de0-f36e24b10f7a",
          "showTitle": false,
          "title": ""
        },
        "id": "BB-FrEWPctJB",
        "outputId": "bfcca807-cd50-4d80-d51f-48ffe7521dec",
        "colab": {
          "base_uri": "https://localhost:8080/"
        }
      },
      "outputs": [
        {
          "output_type": "stream",
          "name": "stdout",
          "text": [
            "\n",
            "    Trips dataset loaded!\n",
            "    ---\n",
            "      Size: S\n",
            "      Tables loaded: ['/content/drive/MyDrive/CSC8101_Data/tripdata_2021_07.parquet']\n",
            "      Number of trips (dataset rows): 2,898,033\n",
            "    \n"
          ]
        }
      ],
      "source": [
        "# after developing your solution, it may be convenient to combine all your functions in a single cell (at the start or end of the notebook)\n",
        "\n",
        "# CHANGE the value of the following arguments to record the pipeline execution times for increasing dataset sizes\n",
        "SIZE = 'S'\n",
        "WITH_TASK_12 = True\n",
        "\n",
        "# Load trips dataset\n",
        "trips = init_trips(SIZE)"
      ]
    },
    {
      "cell_type": "code",
      "execution_count": 117,
      "metadata": {
        "application/vnd.databricks.v1+cell": {
          "inputWidgets": {},
          "nuid": "68681494-9d89-4706-908d-c5545444e8ca",
          "showTitle": false,
          "title": ""
        },
        "id": "EeEE0c8lctJB",
        "outputId": "f154412b-2f39-4aac-af5e-2ad27c38b886",
        "colab": {
          "base_uri": "https://localhost:8080/"
        }
      },
      "outputs": [
        {
          "output_type": "execute_result",
          "data": {
            "text/plain": [
              "[DataFrame[Pickup_Zone: string, sum_trips: bigint, total_passengers: double, avg_profitability: double],\n",
              " DataFrame[Pickup_Zone: string, sum_trips: bigint, total_passengers: double, avg_profitability: double],\n",
              " DataFrame[Pickup_Zone: string, sum_trips: bigint, total_passengers: double, avg_profitability: double]]"
            ]
          },
          "metadata": {},
          "execution_count": 117
        }
      ],
      "source": [
        "# run and record the resulting execution time shown by databricks (on the cell footer)\n",
        "\n",
        "# IMPORTANT: this function calls all task functions in order of occurrence. For this code to run without errors, you have to load into memory all of the previous task-specific functions, even if you haven't implemented these yet.\n",
        "pipeline(trips, with_task_12 = WITH_TASK_12)"
      ]
    },
    {
      "cell_type": "markdown",
      "metadata": {
        "application/vnd.databricks.v1+cell": {
          "inputWidgets": {},
          "nuid": "08018100-ac87-4801-94fc-c9fec3dc6a66",
          "showTitle": false,
          "title": ""
        },
        "id": "QKm63LS4ctJB"
      },
      "source": [
        "_Table 1. Pipeline performance for `parquet` format._\n",
        "\n",
        "| metric                      | S    | M    | L    | XL   | XXL  |\n",
        "|-----------------------------|------|------|------|------|------|\n",
        "| rows (M)                    |  2,898,033 |  15,571,166 |  000 |  000 |  000 |\n",
        "| execution time   (w/o 1.2)  | 0.113 | 0.287 | 0.00 | 0.00 | 0.00 |\n",
        "| execution time              | 11.46 | 74.995 | 0.00 | 0.00 | 0.00 |\n",
        "| sec / 1M records (w/o 1.2)  | 0.38991964  | 0.18431503  | 0.0  | 0.0  | 0.0  |\n",
        "| sec / 1M records            | 3.95440631  | 4.81627387  | 0.0  | 0.0  | 0.0  |"
      ]
    }
  ],
  "metadata": {
    "application/vnd.databricks.v1+notebook": {
      "dashboards": [],
      "language": "python",
      "notebookMetadata": {
        "pythonIndentUnit": 4
      },
      "notebookName": "CSC8101-spark-coursework",
      "notebookOrigID": 3034227906566903,
      "widgets": {}
    },
    "language_info": {
      "name": "python"
    },
    "colab": {
      "provenance": []
    },
    "kernelspec": {
      "name": "python3",
      "display_name": "Python 3"
    }
  },
  "nbformat": 4,
  "nbformat_minor": 0
}